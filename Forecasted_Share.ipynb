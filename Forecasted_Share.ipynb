{
 "cells": [
  {
   "cell_type": "code",
   "execution_count": 1,
   "id": "ee0709e5",
   "metadata": {},
   "outputs": [],
   "source": [
    "# Importing key libraries \n",
    "import pandas as pd\n",
    "import numpy as np\n",
    "%matplotlib inline\n",
    "\n",
    "# Load specific forecasting tools\n",
    "from statsmodels.tsa.arima_model import ARMA,ARMAResults,ARIMA,ARIMAResults\n",
    "from statsmodels.tsa.stattools import acovf,acf,pacf,pacf_yw,pacf_ols\n",
    "from statsmodels.graphics.tsaplots import plot_acf,plot_pacf # for determining (p,q) orders\n",
    "from statsmodels.tsa.statespace.tools import diff\n",
    "from statsmodels.tools.eval_measures import rmse,mse\n",
    "from statsmodels.tsa.api import SARIMAX\n",
    "\n",
    "# Ignore harmless warnings\n",
    "import warnings\n",
    "warnings.filterwarnings(\"ignore\")"
   ]
  },
  {
   "cell_type": "code",
   "execution_count": 2,
   "id": "90bfb4ab",
   "metadata": {},
   "outputs": [],
   "source": [
    "# Load dataset\n",
    "df = pd.read_excel('ForecastedShare2.xlsx',index_col='Year')"
   ]
  },
  {
   "cell_type": "code",
   "execution_count": 5,
   "id": "f721e2cd",
   "metadata": {},
   "outputs": [
    {
     "data": {
      "text/html": [
       "<div>\n",
       "<style scoped>\n",
       "    .dataframe tbody tr th:only-of-type {\n",
       "        vertical-align: middle;\n",
       "    }\n",
       "\n",
       "    .dataframe tbody tr th {\n",
       "        vertical-align: top;\n",
       "    }\n",
       "\n",
       "    .dataframe thead th {\n",
       "        text-align: right;\n",
       "    }\n",
       "</style>\n",
       "<table border=\"1\" class=\"dataframe\">\n",
       "  <thead>\n",
       "    <tr style=\"text-align: right;\">\n",
       "      <th></th>\n",
       "      <th>GDP</th>\n",
       "      <th>Forecast_GDP</th>\n",
       "      <th>Old_Age_Pension_Expenditure</th>\n",
       "      <th>Forecast_Old_Age_PE</th>\n",
       "      <th>Share</th>\n",
       "      <th>Forecasted_Share</th>\n",
       "    </tr>\n",
       "    <tr>\n",
       "      <th>Year</th>\n",
       "      <th></th>\n",
       "      <th></th>\n",
       "      <th></th>\n",
       "      <th></th>\n",
       "      <th></th>\n",
       "      <th></th>\n",
       "    </tr>\n",
       "  </thead>\n",
       "  <tbody>\n",
       "    <tr>\n",
       "      <th>2026</th>\n",
       "      <td>NaN</td>\n",
       "      <td>107471.45</td>\n",
       "      <td>NaN</td>\n",
       "      <td>7758.96</td>\n",
       "      <td>NaN</td>\n",
       "      <td>0.072196</td>\n",
       "    </tr>\n",
       "    <tr>\n",
       "      <th>2027</th>\n",
       "      <td>NaN</td>\n",
       "      <td>110432.53</td>\n",
       "      <td>NaN</td>\n",
       "      <td>8203.96</td>\n",
       "      <td>NaN</td>\n",
       "      <td>0.074289</td>\n",
       "    </tr>\n",
       "    <tr>\n",
       "      <th>2028</th>\n",
       "      <td>NaN</td>\n",
       "      <td>113393.60</td>\n",
       "      <td>NaN</td>\n",
       "      <td>8643.13</td>\n",
       "      <td>NaN</td>\n",
       "      <td>0.076222</td>\n",
       "    </tr>\n",
       "    <tr>\n",
       "      <th>2029</th>\n",
       "      <td>NaN</td>\n",
       "      <td>116354.67</td>\n",
       "      <td>NaN</td>\n",
       "      <td>9114.63</td>\n",
       "      <td>NaN</td>\n",
       "      <td>0.078335</td>\n",
       "    </tr>\n",
       "    <tr>\n",
       "      <th>2030</th>\n",
       "      <td>NaN</td>\n",
       "      <td>119315.75</td>\n",
       "      <td>NaN</td>\n",
       "      <td>9605.89</td>\n",
       "      <td>NaN</td>\n",
       "      <td>0.080508</td>\n",
       "    </tr>\n",
       "  </tbody>\n",
       "</table>\n",
       "</div>"
      ],
      "text/plain": [
       "      GDP  Forecast_GDP  Old_Age_Pension_Expenditure  Forecast_Old_Age_PE  \\\n",
       "Year                                                                        \n",
       "2026  NaN     107471.45                          NaN              7758.96   \n",
       "2027  NaN     110432.53                          NaN              8203.96   \n",
       "2028  NaN     113393.60                          NaN              8643.13   \n",
       "2029  NaN     116354.67                          NaN              9114.63   \n",
       "2030  NaN     119315.75                          NaN              9605.89   \n",
       "\n",
       "      Share  Forecasted_Share  \n",
       "Year                           \n",
       "2026    NaN          0.072196  \n",
       "2027    NaN          0.074289  \n",
       "2028    NaN          0.076222  \n",
       "2029    NaN          0.078335  \n",
       "2030    NaN          0.080508  "
      ]
     },
     "execution_count": 5,
     "metadata": {},
     "output_type": "execute_result"
    }
   ],
   "source": [
    "df.tail()"
   ]
  },
  {
   "cell_type": "code",
   "execution_count": 4,
   "id": "6bcb9114",
   "metadata": {},
   "outputs": [
    {
     "data": {
      "image/png": "[encoded data removed]",
      "text/plain": [
       "<Figure size 1152x432 with 1 Axes>"
      ]
     },
     "metadata": {
      "needs_background": "light"
     },
     "output_type": "display_data"
    }
   ],
   "source": [
    "# Another plot\n",
    "title = 'Podiel výdavkov na starobné dôchodky na HDP SR do roku 2030'\n",
    "xlabel = 'Rok'\n",
    "ylabel = 'mil.€'\n",
    "\n",
    "ax = df[['GDP','Forecast_GDP','Old_Age_Pension_Expenditure','Forecast_Old_Age_PE']].plot.bar(figsize=(16,6),title=title, grid=True, legend=True)\n",
    "ax.set(xlabel=xlabel, ylabel=ylabel)\n",
    "ax.autoscale(axis='x',tight=True)"
   ]
  },
  {
   "cell_type": "code",
   "execution_count": null,
   "id": "8b065a46",
   "metadata": {},
   "outputs": [],
   "source": []
  }
 ],
 "metadata": {
  "kernelspec": {
   "display_name": "Python 3 (ipykernel)",
   "language": "python",
   "name": "python3"
  },
  "language_info": {
   "codemirror_mode": {
    "name": "ipython",
    "version": 3
   },
   "file_extension": ".py",
   "mimetype": "text/x-python",
   "name": "python",
   "nbconvert_exporter": "python",
   "pygments_lexer": "ipython3",
   "version": "3.7.2"
  }
 },
 "nbformat": 4,
 "nbformat_minor": 5
}
